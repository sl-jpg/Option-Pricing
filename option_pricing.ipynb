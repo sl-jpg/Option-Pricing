{
 "cells": [
  {
   "cell_type": "code",
   "execution_count": 12,
   "id": "41077c90-83f7-4b19-8605-eac5f25b3281",
   "metadata": {},
   "outputs": [],
   "source": [
    "import numpy as np\n",
    "import pandas as pd \n",
    "import math\n",
    "from scipy.stats import norm"
   ]
  },
  {
   "cell_type": "markdown",
   "id": "baaa910c-4976-492a-ad8b-8b1256c173ae",
   "metadata": {},
   "source": [
    "# Black Scholes Pricing Model"
   ]
  },
  {
   "cell_type": "code",
   "execution_count": 16,
   "id": "f6bbeb06-dcc4-46db-8539-6d605906ecb3",
   "metadata": {},
   "outputs": [],
   "source": [
    "def options(K, S, r, dT, sigma, opt_type):\n",
    "    d1 = (np.log(S/K)+(r+sigma**2/2)*dT)/(sigma*np.sqrt(dT))\n",
    "    d2 = d1 - sigma*np.sqrt(dT)\n",
    "    if opt_type == 'Call':\n",
    "        price = S*norm.cdf(d1)-K*np.exp(-r*dT)*norm.cdf(d2)\n",
    "    elif opt_type == 'Put':\n",
    "        price = K*np.exp(-r*dT)*norm.cdf(-d2)-S*norm.cdf(-d1)\n",
    "    else: \n",
    "        print(\"Invalid type\")\n",
    "    return price \n",
    "        "
   ]
  },
  {
   "cell_type": "code",
   "execution_count": 20,
   "id": "46c90a6e-0aff-44d5-9ab9-194e48774aa5",
   "metadata": {},
   "outputs": [
    {
     "data": {
      "text/plain": [
       "5.207766463323438"
      ]
     },
     "execution_count": 20,
     "metadata": {},
     "output_type": "execute_result"
    }
   ],
   "source": []
  },
  {
   "cell_type": "code",
   "execution_count": null,
   "id": "d03729dd-bcd1-4805-8dd5-6f0bca2183b1",
   "metadata": {},
   "outputs": [],
   "source": []
  }
 ],
 "metadata": {
  "kernelspec": {
   "display_name": "Python [conda env:base] *",
   "language": "python",
   "name": "conda-base-py"
  },
  "language_info": {
   "codemirror_mode": {
    "name": "ipython",
    "version": 3
   },
   "file_extension": ".py",
   "mimetype": "text/x-python",
   "name": "python",
   "nbconvert_exporter": "python",
   "pygments_lexer": "ipython3",
   "version": "3.12.7"
  }
 },
 "nbformat": 4,
 "nbformat_minor": 5
}
