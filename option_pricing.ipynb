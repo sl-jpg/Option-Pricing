{
 "cells": [
  {
   "cell_type": "code",
   "execution_count": 25,
   "id": "41077c90-83f7-4b19-8605-eac5f25b3281",
   "metadata": {},
   "outputs": [],
   "source": [
    "import numpy as np\n",
    "import pandas as pd \n",
    "import math\n",
    "from scipy.stats import norm"
   ]
  },
  {
   "cell_type": "markdown",
   "id": "baaa910c-4976-492a-ad8b-8b1256c173ae",
   "metadata": {},
   "source": [
    "# Black Scholes Pricing Model"
   ]
  },
  {
   "cell_type": "code",
   "execution_count": 28,
   "id": "f6bbeb06-dcc4-46db-8539-6d605906ecb3",
   "metadata": {},
   "outputs": [],
   "source": [
    "def options(K, S, r, dT, sigma, opt_type):\n",
    "    d1 = (np.log(S/K)+(r+sigma**2/2)*dT)/(sigma*np.sqrt(dT))\n",
    "    d2 = d1 - sigma*np.sqrt(dT)\n",
    "    if opt_type == 'Call':\n",
    "        price = S*norm.cdf(d1)-K*np.exp(-r*dT)*norm.cdf(d2)\n",
    "    elif opt_type == 'Put':\n",
    "        price = K*np.exp(-r*dT)*norm.cdf(-d2)-S*norm.cdf(-d1)\n",
    "    else: \n",
    "        print(\"Invalid type\")\n",
    "    return price \n",
    "        "
   ]
  },
  {
   "cell_type": "markdown",
   "id": "920d72b9-3fab-4429-a5dd-88f3c8b43f31",
   "metadata": {},
   "source": [
    "# Determining Greeks"
   ]
  },
  {
   "cell_type": "code",
   "execution_count": 33,
   "id": "d03729dd-bcd1-4805-8dd5-6f0bca2183b1",
   "metadata": {},
   "outputs": [],
   "source": [
    "def greeks(K,S,r, T, sigma, opt_type):\n",
    "    d1 = (np.log(S/K)+(r+sigma**2/2)*T)/(sigma*np.sqrt(T))\n",
    "    pdf_d1 = norm.pdf(d1)  #N'(d1)\n",
    "    cdf_d1 = norm.cdf(d1) #N(d1)\n",
    "    d2 = d1 - sigma*np.sqrt(T) \n",
    "    pdf_d2 = norm.pdf(d2)  #N'(d2)\n",
    "    cdf_d2 = norm.cdf(d2)  #N(d2)\n",
    "\n",
    "    # computing gamma \n",
    "    gamma = pdf_d1/(S*sigma*np.sqrt(T))\n",
    "\n",
    "    #computing vega \n",
    "    vega = S*pdf_d1*np.sqrt(T)\n",
    "\n",
    "    # if option is a call option \n",
    "    if opt_type == 'Call':\n",
    "        delta = cdf_d1\n",
    "        theta = -(S*pdf_d1*sigma)/(2*np.sqrt(T))-K*r*np.exp(-r*T)*cdf_d2\n",
    "        rho = K*T*np.exp(-r*T)*cdf_d2\n",
    "\n",
    "    # if option is a put option \n",
    "    elif opt_type == 'Put':\n",
    "        delta = norm.cdf(-d1)\n",
    "        theta = -(S*pdf_d1*sigma)/(2*np.sqrt(T))+K*r*np.exp(-r*T)*norm.cdf(-d2)\n",
    "        rho = -K*T*np.exp(-r*T)*norm.cdf(-d2)\n",
    "\n",
    "\n",
    "    return {\n",
    "        'Delta': delta,\n",
    "        'Gamma': gamma,\n",
    "        'Theta (per day)': theta / 365,\n",
    "        'Vega (per 1% vol)': vega / 100,\n",
    "        'Rho (per 1% rate)': rho / 100\n",
    "    }"
   ]
  },
  {
   "cell_type": "code",
   "execution_count": 37,
   "id": "921426c2-085c-4fd3-9b7c-4910c6cfa6ac",
   "metadata": {},
   "outputs": [
    {
     "data": {
      "text/plain": [
       "{'Delta': 0.0010377749364545925,\n",
       " 'Gamma': 0.0008210956741325848,\n",
       " 'Theta (per day)': -9.23536114145781e-06,\n",
       " 'Vega (per 1% vol)': 0.001477972213438653,\n",
       " 'Rho (per 1% rate)': -0.0006480474339290626}"
      ]
     },
     "execution_count": 37,
     "metadata": {},
     "output_type": "execute_result"
    }
   ],
   "source": [
    "greeks(20,30,0.01, 2, 0.1, 'Put')"
   ]
  },
  {
   "cell_type": "code",
   "execution_count": null,
   "id": "52a249f4-9f2d-4e61-ab1b-2c31388cf6ec",
   "metadata": {},
   "outputs": [],
   "source": []
  }
 ],
 "metadata": {
  "kernelspec": {
   "display_name": "Python [conda env:base] *",
   "language": "python",
   "name": "conda-base-py"
  },
  "language_info": {
   "codemirror_mode": {
    "name": "ipython",
    "version": 3
   },
   "file_extension": ".py",
   "mimetype": "text/x-python",
   "name": "python",
   "nbconvert_exporter": "python",
   "pygments_lexer": "ipython3",
   "version": "3.12.7"
  }
 },
 "nbformat": 4,
 "nbformat_minor": 5
}
